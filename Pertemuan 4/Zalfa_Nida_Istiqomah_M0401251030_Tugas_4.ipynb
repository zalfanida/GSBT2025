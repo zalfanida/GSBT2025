{
  "cells": [
    {
      "cell_type": "markdown",
      "source": [
        "# Overview Materi"
      ],
      "metadata": {
        "id": "byXiDYEFJ3mu"
      }
    },
    {
      "cell_type": "markdown",
      "source": [
        "Jelaskan secara singkat perbedaan antara bagging dan boosting menurut pemahamanmu!"
      ],
      "metadata": {
        "id": "4UQG5Ang8Ten"
      }
    },
    {
      "cell_type": "markdown",
      "source": [
        "Bagging = model paralel dan mengurangi varians.\n",
        "\n",
        "Boosting = model berurutan dan mengurangi bias."
      ],
      "metadata": {
        "id": "KJ2lkCBe5DG9"
      }
    },
    {
      "cell_type": "markdown",
      "source": [
        "# Import Data & Libraries"
      ],
      "metadata": {
        "id": "RqRs22Mu6x5G"
      }
    },
    {
      "cell_type": "code",
      "source": [
        "# import semua libraries yang akan dibutuhkan\n",
        "import numpy as np\n",
        "import pandas as pd\n",
        "from sklearn.datasets import load_breast_cancer\n",
        "from sklearn.model_selection import train_test_split\n",
        "from sklearn.ensemble import RandomForestClassifier\n",
        "from sklearn.metrics import accuracy_score"
      ],
      "metadata": {
        "id": "TOzFusg26xQT"
      },
      "execution_count": null,
      "outputs": []
    },
    {
      "cell_type": "code",
      "source": [
        "# import data dari datasets.load_breast_cancer\n",
        "data = load_breast_cancer()\n",
        "\n",
        "# subsetting data\n",
        "X = data.data\n",
        "y = data.target\n",
        "\n",
        "# split data dengan rasio 80:20\n",
        "X_train, X_test, y_train, y_test = train_test_split(\n",
        "    X, y, test_size=0.2, random_state=42\n",
        ")\n",
        "\n",
        "print(\"Train size:\", X_train.shape[0])\n",
        "print(\"Test size:\", X_test.shape[0])"
      ],
      "metadata": {
        "id": "EgdVWXb1Jy6J",
        "colab": {
          "base_uri": "https://localhost:8080/"
        },
        "outputId": "9596a56f-36bc-41b0-8e49-6fc249f0e937"
      },
      "execution_count": null,
      "outputs": [
        {
          "output_type": "stream",
          "name": "stdout",
          "text": [
            "Train size: 455\n",
            "Test size: 114\n"
          ]
        }
      ]
    },
    {
      "cell_type": "code",
      "source": [
        "# ubah data ke dalam bentuk dataframe agar bisa ditampilkan dalam .head()\n",
        "df = pd.DataFrame(data.data, columns=data.feature_names)\n",
        "df['target'] = data.target\n",
        "df.head()"
      ],
      "metadata": {
        "id": "DIccsE6AGTVi",
        "colab": {
          "base_uri": "https://localhost:8080/",
          "height": 290
        },
        "outputId": "c052639e-c6e5-41a0-d2b2-f94f30e168bf"
      },
      "execution_count": null,
      "outputs": [
        {
          "output_type": "execute_result",
          "data": {
            "text/plain": [
              "   mean radius  mean texture  mean perimeter  mean area  mean smoothness  \\\n",
              "0        17.99         10.38          122.80     1001.0          0.11840   \n",
              "1        20.57         17.77          132.90     1326.0          0.08474   \n",
              "2        19.69         21.25          130.00     1203.0          0.10960   \n",
              "3        11.42         20.38           77.58      386.1          0.14250   \n",
              "4        20.29         14.34          135.10     1297.0          0.10030   \n",
              "\n",
              "   mean compactness  mean concavity  mean concave points  mean symmetry  \\\n",
              "0           0.27760          0.3001              0.14710         0.2419   \n",
              "1           0.07864          0.0869              0.07017         0.1812   \n",
              "2           0.15990          0.1974              0.12790         0.2069   \n",
              "3           0.28390          0.2414              0.10520         0.2597   \n",
              "4           0.13280          0.1980              0.10430         0.1809   \n",
              "\n",
              "   mean fractal dimension  ...  worst texture  worst perimeter  worst area  \\\n",
              "0                 0.07871  ...          17.33           184.60      2019.0   \n",
              "1                 0.05667  ...          23.41           158.80      1956.0   \n",
              "2                 0.05999  ...          25.53           152.50      1709.0   \n",
              "3                 0.09744  ...          26.50            98.87       567.7   \n",
              "4                 0.05883  ...          16.67           152.20      1575.0   \n",
              "\n",
              "   worst smoothness  worst compactness  worst concavity  worst concave points  \\\n",
              "0            0.1622             0.6656           0.7119                0.2654   \n",
              "1            0.1238             0.1866           0.2416                0.1860   \n",
              "2            0.1444             0.4245           0.4504                0.2430   \n",
              "3            0.2098             0.8663           0.6869                0.2575   \n",
              "4            0.1374             0.2050           0.4000                0.1625   \n",
              "\n",
              "   worst symmetry  worst fractal dimension  target  \n",
              "0          0.4601                  0.11890       0  \n",
              "1          0.2750                  0.08902       0  \n",
              "2          0.3613                  0.08758       0  \n",
              "3          0.6638                  0.17300       0  \n",
              "4          0.2364                  0.07678       0  \n",
              "\n",
              "[5 rows x 31 columns]"
            ],
            "text/html": [
              "\n",
              "  <div id=\"df-3bf34669-27f2-4d93-ad67-0eda09e14653\" class=\"colab-df-container\">\n",
              "    <div>\n",
              "<style scoped>\n",
              "    .dataframe tbody tr th:only-of-type {\n",
              "        vertical-align: middle;\n",
              "    }\n",
              "\n",
              "    .dataframe tbody tr th {\n",
              "        vertical-align: top;\n",
              "    }\n",
              "\n",
              "    .dataframe thead th {\n",
              "        text-align: right;\n",
              "    }\n",
              "</style>\n",
              "<table border=\"1\" class=\"dataframe\">\n",
              "  <thead>\n",
              "    <tr style=\"text-align: right;\">\n",
              "      <th></th>\n",
              "      <th>mean radius</th>\n",
              "      <th>mean texture</th>\n",
              "      <th>mean perimeter</th>\n",
              "      <th>mean area</th>\n",
              "      <th>mean smoothness</th>\n",
              "      <th>mean compactness</th>\n",
              "      <th>mean concavity</th>\n",
              "      <th>mean concave points</th>\n",
              "      <th>mean symmetry</th>\n",
              "      <th>mean fractal dimension</th>\n",
              "      <th>...</th>\n",
              "      <th>worst texture</th>\n",
              "      <th>worst perimeter</th>\n",
              "      <th>worst area</th>\n",
              "      <th>worst smoothness</th>\n",
              "      <th>worst compactness</th>\n",
              "      <th>worst concavity</th>\n",
              "      <th>worst concave points</th>\n",
              "      <th>worst symmetry</th>\n",
              "      <th>worst fractal dimension</th>\n",
              "      <th>target</th>\n",
              "    </tr>\n",
              "  </thead>\n",
              "  <tbody>\n",
              "    <tr>\n",
              "      <th>0</th>\n",
              "      <td>17.99</td>\n",
              "      <td>10.38</td>\n",
              "      <td>122.80</td>\n",
              "      <td>1001.0</td>\n",
              "      <td>0.11840</td>\n",
              "      <td>0.27760</td>\n",
              "      <td>0.3001</td>\n",
              "      <td>0.14710</td>\n",
              "      <td>0.2419</td>\n",
              "      <td>0.07871</td>\n",
              "      <td>...</td>\n",
              "      <td>17.33</td>\n",
              "      <td>184.60</td>\n",
              "      <td>2019.0</td>\n",
              "      <td>0.1622</td>\n",
              "      <td>0.6656</td>\n",
              "      <td>0.7119</td>\n",
              "      <td>0.2654</td>\n",
              "      <td>0.4601</td>\n",
              "      <td>0.11890</td>\n",
              "      <td>0</td>\n",
              "    </tr>\n",
              "    <tr>\n",
              "      <th>1</th>\n",
              "      <td>20.57</td>\n",
              "      <td>17.77</td>\n",
              "      <td>132.90</td>\n",
              "      <td>1326.0</td>\n",
              "      <td>0.08474</td>\n",
              "      <td>0.07864</td>\n",
              "      <td>0.0869</td>\n",
              "      <td>0.07017</td>\n",
              "      <td>0.1812</td>\n",
              "      <td>0.05667</td>\n",
              "      <td>...</td>\n",
              "      <td>23.41</td>\n",
              "      <td>158.80</td>\n",
              "      <td>1956.0</td>\n",
              "      <td>0.1238</td>\n",
              "      <td>0.1866</td>\n",
              "      <td>0.2416</td>\n",
              "      <td>0.1860</td>\n",
              "      <td>0.2750</td>\n",
              "      <td>0.08902</td>\n",
              "      <td>0</td>\n",
              "    </tr>\n",
              "    <tr>\n",
              "      <th>2</th>\n",
              "      <td>19.69</td>\n",
              "      <td>21.25</td>\n",
              "      <td>130.00</td>\n",
              "      <td>1203.0</td>\n",
              "      <td>0.10960</td>\n",
              "      <td>0.15990</td>\n",
              "      <td>0.1974</td>\n",
              "      <td>0.12790</td>\n",
              "      <td>0.2069</td>\n",
              "      <td>0.05999</td>\n",
              "      <td>...</td>\n",
              "      <td>25.53</td>\n",
              "      <td>152.50</td>\n",
              "      <td>1709.0</td>\n",
              "      <td>0.1444</td>\n",
              "      <td>0.4245</td>\n",
              "      <td>0.4504</td>\n",
              "      <td>0.2430</td>\n",
              "      <td>0.3613</td>\n",
              "      <td>0.08758</td>\n",
              "      <td>0</td>\n",
              "    </tr>\n",
              "    <tr>\n",
              "      <th>3</th>\n",
              "      <td>11.42</td>\n",
              "      <td>20.38</td>\n",
              "      <td>77.58</td>\n",
              "      <td>386.1</td>\n",
              "      <td>0.14250</td>\n",
              "      <td>0.28390</td>\n",
              "      <td>0.2414</td>\n",
              "      <td>0.10520</td>\n",
              "      <td>0.2597</td>\n",
              "      <td>0.09744</td>\n",
              "      <td>...</td>\n",
              "      <td>26.50</td>\n",
              "      <td>98.87</td>\n",
              "      <td>567.7</td>\n",
              "      <td>0.2098</td>\n",
              "      <td>0.8663</td>\n",
              "      <td>0.6869</td>\n",
              "      <td>0.2575</td>\n",
              "      <td>0.6638</td>\n",
              "      <td>0.17300</td>\n",
              "      <td>0</td>\n",
              "    </tr>\n",
              "    <tr>\n",
              "      <th>4</th>\n",
              "      <td>20.29</td>\n",
              "      <td>14.34</td>\n",
              "      <td>135.10</td>\n",
              "      <td>1297.0</td>\n",
              "      <td>0.10030</td>\n",
              "      <td>0.13280</td>\n",
              "      <td>0.1980</td>\n",
              "      <td>0.10430</td>\n",
              "      <td>0.1809</td>\n",
              "      <td>0.05883</td>\n",
              "      <td>...</td>\n",
              "      <td>16.67</td>\n",
              "      <td>152.20</td>\n",
              "      <td>1575.0</td>\n",
              "      <td>0.1374</td>\n",
              "      <td>0.2050</td>\n",
              "      <td>0.4000</td>\n",
              "      <td>0.1625</td>\n",
              "      <td>0.2364</td>\n",
              "      <td>0.07678</td>\n",
              "      <td>0</td>\n",
              "    </tr>\n",
              "  </tbody>\n",
              "</table>\n",
              "<p>5 rows × 31 columns</p>\n",
              "</div>\n",
              "    <div class=\"colab-df-buttons\">\n",
              "\n",
              "  <div class=\"colab-df-container\">\n",
              "    <button class=\"colab-df-convert\" onclick=\"convertToInteractive('df-3bf34669-27f2-4d93-ad67-0eda09e14653')\"\n",
              "            title=\"Convert this dataframe to an interactive table.\"\n",
              "            style=\"display:none;\">\n",
              "\n",
              "  <svg xmlns=\"http://www.w3.org/2000/svg\" height=\"24px\" viewBox=\"0 -960 960 960\">\n",
              "    <path d=\"M120-120v-720h720v720H120Zm60-500h600v-160H180v160Zm220 220h160v-160H400v160Zm0 220h160v-160H400v160ZM180-400h160v-160H180v160Zm440 0h160v-160H620v160ZM180-180h160v-160H180v160Zm440 0h160v-160H620v160Z\"/>\n",
              "  </svg>\n",
              "    </button>\n",
              "\n",
              "  <style>\n",
              "    .colab-df-container {\n",
              "      display:flex;\n",
              "      gap: 12px;\n",
              "    }\n",
              "\n",
              "    .colab-df-convert {\n",
              "      background-color: #E8F0FE;\n",
              "      border: none;\n",
              "      border-radius: 50%;\n",
              "      cursor: pointer;\n",
              "      display: none;\n",
              "      fill: #1967D2;\n",
              "      height: 32px;\n",
              "      padding: 0 0 0 0;\n",
              "      width: 32px;\n",
              "    }\n",
              "\n",
              "    .colab-df-convert:hover {\n",
              "      background-color: #E2EBFA;\n",
              "      box-shadow: 0px 1px 2px rgba(60, 64, 67, 0.3), 0px 1px 3px 1px rgba(60, 64, 67, 0.15);\n",
              "      fill: #174EA6;\n",
              "    }\n",
              "\n",
              "    .colab-df-buttons div {\n",
              "      margin-bottom: 4px;\n",
              "    }\n",
              "\n",
              "    [theme=dark] .colab-df-convert {\n",
              "      background-color: #3B4455;\n",
              "      fill: #D2E3FC;\n",
              "    }\n",
              "\n",
              "    [theme=dark] .colab-df-convert:hover {\n",
              "      background-color: #434B5C;\n",
              "      box-shadow: 0px 1px 3px 1px rgba(0, 0, 0, 0.15);\n",
              "      filter: drop-shadow(0px 1px 2px rgba(0, 0, 0, 0.3));\n",
              "      fill: #FFFFFF;\n",
              "    }\n",
              "  </style>\n",
              "\n",
              "    <script>\n",
              "      const buttonEl =\n",
              "        document.querySelector('#df-3bf34669-27f2-4d93-ad67-0eda09e14653 button.colab-df-convert');\n",
              "      buttonEl.style.display =\n",
              "        google.colab.kernel.accessAllowed ? 'block' : 'none';\n",
              "\n",
              "      async function convertToInteractive(key) {\n",
              "        const element = document.querySelector('#df-3bf34669-27f2-4d93-ad67-0eda09e14653');\n",
              "        const dataTable =\n",
              "          await google.colab.kernel.invokeFunction('convertToInteractive',\n",
              "                                                    [key], {});\n",
              "        if (!dataTable) return;\n",
              "\n",
              "        const docLinkHtml = 'Like what you see? Visit the ' +\n",
              "          '<a target=\"_blank\" href=https://colab.research.google.com/notebooks/data_table.ipynb>data table notebook</a>'\n",
              "          + ' to learn more about interactive tables.';\n",
              "        element.innerHTML = '';\n",
              "        dataTable['output_type'] = 'display_data';\n",
              "        await google.colab.output.renderOutput(dataTable, element);\n",
              "        const docLink = document.createElement('div');\n",
              "        docLink.innerHTML = docLinkHtml;\n",
              "        element.appendChild(docLink);\n",
              "      }\n",
              "    </script>\n",
              "  </div>\n",
              "\n",
              "\n",
              "    <div id=\"df-422d07f5-9f3f-497e-ba89-043186b39f45\">\n",
              "      <button class=\"colab-df-quickchart\" onclick=\"quickchart('df-422d07f5-9f3f-497e-ba89-043186b39f45')\"\n",
              "                title=\"Suggest charts\"\n",
              "                style=\"display:none;\">\n",
              "\n",
              "<svg xmlns=\"http://www.w3.org/2000/svg\" height=\"24px\"viewBox=\"0 0 24 24\"\n",
              "     width=\"24px\">\n",
              "    <g>\n",
              "        <path d=\"M19 3H5c-1.1 0-2 .9-2 2v14c0 1.1.9 2 2 2h14c1.1 0 2-.9 2-2V5c0-1.1-.9-2-2-2zM9 17H7v-7h2v7zm4 0h-2V7h2v10zm4 0h-2v-4h2v4z\"/>\n",
              "    </g>\n",
              "</svg>\n",
              "      </button>\n",
              "\n",
              "<style>\n",
              "  .colab-df-quickchart {\n",
              "      --bg-color: #E8F0FE;\n",
              "      --fill-color: #1967D2;\n",
              "      --hover-bg-color: #E2EBFA;\n",
              "      --hover-fill-color: #174EA6;\n",
              "      --disabled-fill-color: #AAA;\n",
              "      --disabled-bg-color: #DDD;\n",
              "  }\n",
              "\n",
              "  [theme=dark] .colab-df-quickchart {\n",
              "      --bg-color: #3B4455;\n",
              "      --fill-color: #D2E3FC;\n",
              "      --hover-bg-color: #434B5C;\n",
              "      --hover-fill-color: #FFFFFF;\n",
              "      --disabled-bg-color: #3B4455;\n",
              "      --disabled-fill-color: #666;\n",
              "  }\n",
              "\n",
              "  .colab-df-quickchart {\n",
              "    background-color: var(--bg-color);\n",
              "    border: none;\n",
              "    border-radius: 50%;\n",
              "    cursor: pointer;\n",
              "    display: none;\n",
              "    fill: var(--fill-color);\n",
              "    height: 32px;\n",
              "    padding: 0;\n",
              "    width: 32px;\n",
              "  }\n",
              "\n",
              "  .colab-df-quickchart:hover {\n",
              "    background-color: var(--hover-bg-color);\n",
              "    box-shadow: 0 1px 2px rgba(60, 64, 67, 0.3), 0 1px 3px 1px rgba(60, 64, 67, 0.15);\n",
              "    fill: var(--button-hover-fill-color);\n",
              "  }\n",
              "\n",
              "  .colab-df-quickchart-complete:disabled,\n",
              "  .colab-df-quickchart-complete:disabled:hover {\n",
              "    background-color: var(--disabled-bg-color);\n",
              "    fill: var(--disabled-fill-color);\n",
              "    box-shadow: none;\n",
              "  }\n",
              "\n",
              "  .colab-df-spinner {\n",
              "    border: 2px solid var(--fill-color);\n",
              "    border-color: transparent;\n",
              "    border-bottom-color: var(--fill-color);\n",
              "    animation:\n",
              "      spin 1s steps(1) infinite;\n",
              "  }\n",
              "\n",
              "  @keyframes spin {\n",
              "    0% {\n",
              "      border-color: transparent;\n",
              "      border-bottom-color: var(--fill-color);\n",
              "      border-left-color: var(--fill-color);\n",
              "    }\n",
              "    20% {\n",
              "      border-color: transparent;\n",
              "      border-left-color: var(--fill-color);\n",
              "      border-top-color: var(--fill-color);\n",
              "    }\n",
              "    30% {\n",
              "      border-color: transparent;\n",
              "      border-left-color: var(--fill-color);\n",
              "      border-top-color: var(--fill-color);\n",
              "      border-right-color: var(--fill-color);\n",
              "    }\n",
              "    40% {\n",
              "      border-color: transparent;\n",
              "      border-right-color: var(--fill-color);\n",
              "      border-top-color: var(--fill-color);\n",
              "    }\n",
              "    60% {\n",
              "      border-color: transparent;\n",
              "      border-right-color: var(--fill-color);\n",
              "    }\n",
              "    80% {\n",
              "      border-color: transparent;\n",
              "      border-right-color: var(--fill-color);\n",
              "      border-bottom-color: var(--fill-color);\n",
              "    }\n",
              "    90% {\n",
              "      border-color: transparent;\n",
              "      border-bottom-color: var(--fill-color);\n",
              "    }\n",
              "  }\n",
              "</style>\n",
              "\n",
              "      <script>\n",
              "        async function quickchart(key) {\n",
              "          const quickchartButtonEl =\n",
              "            document.querySelector('#' + key + ' button');\n",
              "          quickchartButtonEl.disabled = true;  // To prevent multiple clicks.\n",
              "          quickchartButtonEl.classList.add('colab-df-spinner');\n",
              "          try {\n",
              "            const charts = await google.colab.kernel.invokeFunction(\n",
              "                'suggestCharts', [key], {});\n",
              "          } catch (error) {\n",
              "            console.error('Error during call to suggestCharts:', error);\n",
              "          }\n",
              "          quickchartButtonEl.classList.remove('colab-df-spinner');\n",
              "          quickchartButtonEl.classList.add('colab-df-quickchart-complete');\n",
              "        }\n",
              "        (() => {\n",
              "          let quickchartButtonEl =\n",
              "            document.querySelector('#df-422d07f5-9f3f-497e-ba89-043186b39f45 button');\n",
              "          quickchartButtonEl.style.display =\n",
              "            google.colab.kernel.accessAllowed ? 'block' : 'none';\n",
              "        })();\n",
              "      </script>\n",
              "    </div>\n",
              "\n",
              "    </div>\n",
              "  </div>\n"
            ],
            "application/vnd.google.colaboratory.intrinsic+json": {
              "type": "dataframe",
              "variable_name": "df"
            }
          },
          "metadata": {},
          "execution_count": 19
        }
      ]
    },
    {
      "cell_type": "markdown",
      "metadata": {
        "id": "as5nDHct_hfZ"
      },
      "source": [
        "# Bagging from Scratch"
      ]
    },
    {
      "cell_type": "markdown",
      "source": [
        "## Random Forest Classifier - Sklearn"
      ],
      "metadata": {
        "id": "NSJ7Q1Uc-xct"
      }
    },
    {
      "cell_type": "code",
      "source": [
        "# gunakan RandomForestClassifier dari Sklearn\n",
        "clf = RandomForestClassifier(n_estimators=100, max_depth=5, random_state=42)\n",
        "\n",
        "# Latih Model\n",
        "clf.fit(X_train, y_train)\n",
        "\n",
        "# Prediksi data uji\n",
        "preds = preds = clf.predict(X_test)\n",
        "\n",
        "# print score menggunakan metrik accuracy #hitung accuracy\n",
        "acc = accuracy_score(y_test, preds)\n",
        "print(f\"Akurasi Random Forest (sklearn): {acc:.4f}\")"
      ],
      "metadata": {
        "id": "pbMEcTKb_DPW",
        "colab": {
          "base_uri": "https://localhost:8080/"
        },
        "outputId": "ed4a26b5-5fa4-4982-deb7-e4c6d6a02c7a"
      },
      "execution_count": null,
      "outputs": [
        {
          "output_type": "stream",
          "name": "stdout",
          "text": [
            "Akurasi Random Forest (sklearn): 0.9649\n"
          ]
        }
      ]
    },
    {
      "cell_type": "markdown",
      "source": [
        "## Random Forest from Scratch\n",
        "Source: https://www.youtube.com/watch?v=kFwe2ZZU7yw"
      ],
      "metadata": {
        "id": "xytLmuIi9xor"
      }
    },
    {
      "cell_type": "code",
      "execution_count": 1,
      "metadata": {
        "id": "U1P5zGkr_hfj"
      },
      "outputs": [],
      "source": [
        "class RandomForest:\n",
        "    def __init__(self, n_trees=10, max_depth=10, min_samples_split=2, n_feature=None, random_state=None):\n",
        "        # inisialisasi parameter\n",
        "        self.n_trees = n_trees\n",
        "        self.max_depth = max_depth\n",
        "        self.min_samples_split = min_samples_split\n",
        "        self.n_feature = n_feature\n",
        "        self.trees = []\n",
        "        self.random_state = random_state\n",
        "\n",
        "    def fit(self, X, y):\n",
        "        self.trees = []\n",
        "\n",
        "        for _ in range(self.n_trees):\n",
        "\n",
        "            X_sample, y_sample = self._bootstrap_samples(X, y)\n",
        "            tree.fit(X_sample, y_sample)\n",
        "            self.trees.append(tree)\n",
        "\n",
        "    def _bootstrap_samples(self, X, y):\n",
        "          n_samples = X.shape[0]                    # jumlah baris data\n",
        "          idxs = np.random.choice(n_samples,        # ambil indeks acak\n",
        "                            size=n_samples,         # ukuran sama dengan data asli\n",
        "                            replace=True)           # dengan pengembalian\n",
        "          return X[idxs], y[idxs]\n",
        "\n",
        "    # Fungsi untuk mencari label yang paling sering muncul\n",
        "    def _most_common_label(self, y):\n",
        "        values, counts = np.unique(y, return_counts=True)\n",
        "        return values[np.argmax(counts)]\n",
        "\n",
        "    def predict(self, X):\n",
        "        # Kumpulkan prediksi dari semua pohon\n",
        "        preds = np.array([tree.predict(X[:, feat_idxs]) for tree, feat_idxs in self.trees])\n",
        "\n",
        "        # Voting mayoritas untuk setiap baris data\n",
        "        y_pred = [np.bincount(row).argmax() for row in preds.T]\n",
        "        return np.array(y_pred)"
      ]
    },
    {
      "cell_type": "markdown",
      "metadata": {
        "id": "vO698edT_hfm"
      },
      "source": [
        "## Predict Using Random Forest"
      ]
    },
    {
      "cell_type": "markdown",
      "metadata": {
        "id": "KkpidtS5E6pY"
      },
      "source": [
        "# Boosting From Scratch"
      ]
    },
    {
      "cell_type": "code",
      "source": [
        "\n",
        "class RandomForest:\n",
        "    def __init__(self, n_trees=10, max_depth=10, min_samples_split=2, n_feature=None, random_state=None):\n",
        "        # inisialisasi parameter\n",
        "        self.n_trees = n_trees\n",
        "        self.max_depth = max_depth\n",
        "        self.min_samples_split = min_samples_split\n",
        "        self.n_feature = n_feature\n",
        "        self.trees = []\n",
        "        self.random_state = random_state\n",
        "\n",
        "    def _bootstrap_samples(self, X, y):\n",
        "        # ambil sampel acak dengan pengembalian\n",
        "        n_samples = X.shape[0]\n",
        "        idxs = np.random.choice(n_samples, size=n_samples, replace=True)\n",
        "        return X[idxs], y[idxs]\n",
        "\n",
        "    def _most_common_label(self, y):\n",
        "        # cari label yang paling sering muncul\n",
        "        values, counts = np.unique(y, return_counts=True)\n",
        "        return values[np.argmax(counts)]\n",
        "\n",
        "    def fit(self, X, y):\n",
        "        self.trees = []\n",
        "        np.random.seed(self.random_state)\n",
        "\n",
        "        for _ in range(self.n_trees):\n",
        "            # ambil bootstrap sample\n",
        "            X_sample, y_sample = self._bootstrap_samples(X, y)\n",
        "\n",
        "            # pilih subset fitur acak\n",
        "            if self.n_feature is not None:\n",
        "                feat_idxs = np.random.choice(X.shape[1], self.n_feature, replace=False)\n",
        "            else:\n",
        "                feat_idxs = np.arange(X.shape[1])\n",
        "\n",
        "            # buat pohon keputusan baru\n",
        "            tree = DecisionTreeClassifier(\n",
        "                max_depth=self.max_depth,\n",
        "                min_samples_split=self.min_samples_split,\n",
        "                random_state=self.random_state\n",
        "            )\n",
        "\n",
        "            # latih pohon dengan subset data dan fitur\n",
        "            tree.fit(X_sample[:, feat_idxs], y_sample)\n",
        "\n",
        "            # simpan pasangan (tree, fitur_yang_dipakai)\n",
        "            self.trees.append((tree, feat_idxs))\n",
        "\n",
        "    def predict(self, X):\n",
        "        # kumpulkan semua prediksi dari tiap pohon\n",
        "        preds = np.array([tree.predict(X[:, feat_idxs]) for tree, feat_idxs in self.trees])\n",
        "\n",
        "        # voting mayoritas untuk setiap baris data\n",
        "        y_pred = np.array([self._most_common_label(row) for row in preds.T])\n",
        "        return y_pred"
      ],
      "metadata": {
        "id": "t9Y8CHVv70C0"
      },
      "execution_count": 4,
      "outputs": []
    },
    {
      "cell_type": "code",
      "source": [
        "\n",
        "from sklearn.datasets import load_iris\n",
        "from sklearn.model_selection import train_test_split\n",
        "\n",
        "X, y = load_iris(return_X_y=True)\n",
        "X_train, X_test, y_train, y_test = train_test_split(X, y, test_size=0.2, random_state=42)\n",
        "\n",
        "clf = RandomForest(n_trees=10, max_depth=5, n_feature=3, random_state=42)\n",
        "clf.fit(X_train, y_train)\n",
        "y_pred = clf.predict(X_test)\n",
        "\n",
        "# hitung akurasi\n",
        "acc = np.mean(y_pred == y_test)\n",
        "print(\"Accuracy:\", acc)\n"
      ],
      "metadata": {
        "colab": {
          "base_uri": "https://localhost:8080/"
        },
        "id": "-vRlNxjl8Aiz",
        "outputId": "eef26c95-501b-4d35-9a9d-1c1b19def719"
      },
      "execution_count": 5,
      "outputs": [
        {
          "output_type": "stream",
          "name": "stdout",
          "text": [
            "Accuracy: 1.0\n"
          ]
        }
      ]
    },
    {
      "cell_type": "markdown",
      "metadata": {
        "id": "MwmAGfCZ_hf2"
      },
      "source": [
        "## Gradient Boosting Classifier - Sklearn"
      ]
    },
    {
      "cell_type": "code",
      "source": [
        "\n",
        "import numpy as np\n",
        "from sklearn.tree import DecisionTreeRegressor\n",
        "from sklearn.ensemble import GradientBoostingClassifier\n",
        "from sklearn.model_selection import train_test_split\n",
        "from sklearn.datasets import load_breast_cancer\n",
        "\n",
        "data = load_breast_cancer()\n",
        "X, y = data.data, data.target\n",
        "X_train, X_test, y_train, y_test = train_test_split(X, y, test_size=0.2, random_state=42)\n",
        "\n",
        "class GradientBoostingScratch:\n",
        "    def __init__(self, n_estimators=50, learning_rate=0.1, max_depth=3):\n",
        "        self.n_estimators = n_estimators\n",
        "        self.learning_rate = learning_rate\n",
        "        self.max_depth = max_depth\n",
        "        self.models = []\n",
        "        self.init_pred = 0\n",
        "\n",
        "    def _sigmoid(self, x):\n",
        "        return 1 / (1 + np.exp(-x))\n",
        "\n",
        "    def fit(self, X, y):\n",
        "        y = np.where(y == 0, -1, 1)   # ubah label ke {-1, 1}\n",
        "        self.init_pred = np.log((1 + np.mean(y)) / (1 - np.mean(y)))\n",
        "        F = np.full(y.shape, self.init_pred)\n",
        "\n",
        "        for _ in range(self.n_estimators):\n",
        "            residual = y / (1 + np.exp(y * F))\n",
        "            tree = DecisionTreeRegressor(max_depth=self.max_depth)\n",
        "            tree.fit(X, residual)\n",
        "            self.models.append(tree)\n",
        "            F += self.learning_rate * tree.predict(X)\n",
        "\n",
        "    def predict(self, X):\n",
        "        F = np.full(X.shape[0], self.init_pred)\n",
        "        for tree in self.models:\n",
        "            F += self.learning_rate * tree.predict(X)\n",
        "        return (self._sigmoid(F) >= 0.5).astype(int)\n",
        "\n",
        "\n",
        "gb_scratch = GradientBoostingScratch(n_estimators=20, learning_rate=0.1, max_depth=3)\n",
        "gb_scratch.fit(X_train, y_train)\n",
        "y_pred_scratch = gb_scratch.predict(X_test)\n",
        "\n",
        "acc_scratch = np.mean(y_pred_scratch == y_test)\n",
        "print(\"Accuracy Gradient Boosting (from scratch):\", round(acc_scratch, 4))\n",
        "\n",
        "print(\"\\nBeberapa hasil prediksi (dari scratch):\")\n",
        "for i in range(10):\n",
        "    print(f\"Data ke-{i+1:2d} | Prediksi: {y_pred_scratch[i]} | Aktual: {y_test[i]}\")\n",
        "\n",
        "\n",
        "gb_sklearn = GradientBoostingClassifier(\n",
        "    n_estimators=100,\n",
        "    learning_rate=0.1,\n",
        "    max_depth=3,\n",
        "    random_state=42\n",
        ")\n",
        "gb_sklearn.fit(X_train, y_train)\n",
        "y_pred_sklearn = gb_sklearn.predict(X_test)\n",
        "\n",
        "acc_sklearn = np.mean(y_pred_sklearn == y_test)\n",
        "print(\"\\nAccuracy Gradient Boosting (sklearn):\", round(acc_sklearn, 4))"
      ],
      "metadata": {
        "colab": {
          "base_uri": "https://localhost:8080/"
        },
        "id": "YcMXtyBqBMgF",
        "outputId": "c6a6f57d-dfb6-4277-d5a8-94cce2f2d6e4"
      },
      "execution_count": 9,
      "outputs": [
        {
          "output_type": "stream",
          "name": "stdout",
          "text": [
            "Accuracy Gradient Boosting (from scratch): 0.9474\n",
            "\n",
            "Beberapa hasil prediksi (dari scratch):\n",
            "Data ke- 1 | Prediksi: 1 | Aktual: 1\n",
            "Data ke- 2 | Prediksi: 0 | Aktual: 0\n",
            "Data ke- 3 | Prediksi: 0 | Aktual: 0\n",
            "Data ke- 4 | Prediksi: 1 | Aktual: 1\n",
            "Data ke- 5 | Prediksi: 1 | Aktual: 1\n",
            "Data ke- 6 | Prediksi: 0 | Aktual: 0\n",
            "Data ke- 7 | Prediksi: 0 | Aktual: 0\n",
            "Data ke- 8 | Prediksi: 0 | Aktual: 0\n",
            "Data ke- 9 | Prediksi: 0 | Aktual: 1\n",
            "Data ke-10 | Prediksi: 1 | Aktual: 1\n",
            "\n",
            "Accuracy Gradient Boosting (sklearn): 0.9561\n"
          ]
        }
      ]
    },
    {
      "cell_type": "markdown",
      "metadata": {
        "id": "d_HaYoJ7_hfs"
      },
      "source": [
        "## Gradient Boosting from Scratch with Decision Tree\n",
        "Source: https://www.youtube.com/watch?v=Pq2mmJxjs1o"
      ]
    },
    {
      "cell_type": "code",
      "execution_count": 11,
      "metadata": {
        "id": "3wK39gf__hft"
      },
      "outputs": [],
      "source": [
        "def sigmoid(x):\n",
        "    return 1 / (1 + np.exp(-x))\n",
        "\n",
        "class gradientBoostingClassifier:\n",
        "    def __init__(self, lr=0.1, n_estimators=25, base_learner=DecisionTreeRegressor):\n",
        "        self.lr = lr\n",
        "        self.n_estimators = n_estimators\n",
        "        self.base_learner = base_learner\n",
        "        self.base_models = []\n",
        "\n",
        "    def fit(self, X, y, **params):\n",
        "        self.base_models = []\n",
        "\n",
        "        Fm = np.zeros_like(y, dtype=float)\n",
        "\n",
        "        _, axs = plt.subplots(5, 5, figsize=(10, 10))\n",
        "        axs = axs.flatten()\n",
        "\n",
        "        for i in range(self.n_estimators):\n",
        "            r_i = y - sigmoid(Fm)\n",
        "            h_i = self.base_learner(**params)\n",
        "            h_i.fit(X, r_i)\n",
        "            self.base_models.append(h_i)\n",
        "\n",
        "            # update the model\n",
        "            Fm += self.lr * h_i.predict(X)\n",
        "\n",
        "            # Plotting\n",
        "            loss = self._log_loss((y + 1) // 2, F)  # ubah y balik ke {0,1}\n",
        "            self.losses.append(loss)\n",
        "\n",
        "        plt.tight_layout()\n",
        "        plt.show()\n",
        "\n",
        "    def predict(self, X):\n",
        "        Fm = np.zeros(X.shape[0])\n",
        "        for h_i in self.base_models:\n",
        "            Fm += self.lr * h_i.predict(X)\n",
        "\n",
        "        probs = sigmoid(Fm)\n",
        "\n",
        "        return (probs >= 0.5).astype(int)\n"
      ]
    },
    {
      "cell_type": "markdown",
      "metadata": {
        "id": "2T8xpiy5_hfu"
      },
      "source": [
        "## Predict Using Gradient Boosting"
      ]
    },
    {
      "cell_type": "code",
      "execution_count": 12,
      "metadata": {
        "id": "NC2HJn67_hfy",
        "colab": {
          "base_uri": "https://localhost:8080/"
        },
        "outputId": "7a1a0105-6f45-4e8b-bcac-89930dc815bc"
      },
      "outputs": [
        {
          "output_type": "stream",
          "name": "stdout",
          "text": [
            "Model Gradient Boosting (from scratch) berhasil dilatih!\n"
          ]
        }
      ],
      "source": [
        "# define and train the model\n",
        "gb = GradientBoostingScratch(\n",
        "    n_estimators=50,     # jumlah pohon yang dibangun\n",
        "    learning_rate=0.1,   # seberapa besar kontribusi setiap pohon\n",
        "    max_depth=3          # kedalaman maksimum tiap pohon\n",
        ")\n",
        "\n",
        "gb.fit(X_train, y_train)\n",
        "\n",
        "print(\"Model Gradient Boosting (from scratch) berhasil dilatih!\")"
      ]
    },
    {
      "cell_type": "code",
      "execution_count": 20,
      "metadata": {
        "id": "gwiUpoGa_hfz",
        "colab": {
          "base_uri": "https://localhost:8080/"
        },
        "outputId": "6366dd93-9f97-4727-c60c-529611d79132"
      },
      "outputs": [
        {
          "output_type": "stream",
          "name": "stdout",
          "text": [
            "Accuracy Gradient Boosting (from scratch): 0.9561\n",
            "\n",
            "Beberapa hasil prediksi (Gradient Boosting from scratch):\n",
            "Data ke- 1 | Prediksi: 1 | Aktual: 1\n",
            "Data ke- 2 | Prediksi: 0 | Aktual: 0\n",
            "Data ke- 3 | Prediksi: 0 | Aktual: 0\n",
            "Data ke- 4 | Prediksi: 1 | Aktual: 1\n",
            "Data ke- 5 | Prediksi: 1 | Aktual: 1\n",
            "Data ke- 6 | Prediksi: 0 | Aktual: 0\n",
            "Data ke- 7 | Prediksi: 0 | Aktual: 0\n",
            "Data ke- 8 | Prediksi: 0 | Aktual: 0\n",
            "Data ke- 9 | Prediksi: 0 | Aktual: 1\n",
            "Data ke-10 | Prediksi: 1 | Aktual: 1\n"
          ]
        }
      ],
      "source": [
        "# get predictions:\n",
        "y_pred = gb.predict(X_test)\n",
        "\n",
        "# print score menggunakan metrik accuracy\n",
        "def accuracy(y_true, y_pred):\n",
        "    y_true = np.array(y_true)\n",
        "    y_pred = np.array(y_pred)\n",
        "    return np.sum(y_true == y_pred) / len(y_true)\n",
        "\n",
        "acc = accuracy(y_test, y_pred)\n",
        "print(\"Accuracy Gradient Boosting (from scratch):\", round(acc, 4))\n",
        "\n",
        "# --- Tampilkan beberapa hasil prediksi ---\n",
        "print(\"\\nBeberapa hasil prediksi (Gradient Boosting from scratch):\")\n",
        "for i in range(10):\n",
        "    print(f\"Data ke-{i+1:2d} | Prediksi: {y_pred[i]} | Aktual: {y_test[i]}\")"
      ]
    },
    {
      "cell_type": "code",
      "execution_count": 22,
      "metadata": {
        "scrolled": true,
        "id": "Z77aeoU5_hf0",
        "colab": {
          "base_uri": "https://localhost:8080/",
          "height": 487
        },
        "outputId": "d2ff6772-764a-4812-ff04-50bf33e137fa"
      },
      "outputs": [
        {
          "output_type": "display_data",
          "data": {
            "text/plain": [
              "<Figure size 1000x500 with 1 Axes>"
            ],
            "image/png": "[encoded data removed]"
          },
          "metadata": {}
        }
      ],
      "source": [
        "# plot predictions vs. the ground truth:\n",
        "import matplotlib.pyplot as plt\n",
        "\n",
        "plt.figure(figsize=(10,5))\n",
        "plt.title(\"Predictions vs Ground Truth (Gradient Boosting from Scratch)\")\n",
        "plt.plot(y_test, 'o', label='Ground Truth (y_test)')\n",
        "plt.plot(y_pred, 'x', label='Predicted Probability (y_pred)', alpha=0.7) # Changed preds to y_pred\n",
        "plt.xlabel(\"Sample Index\")\n",
        "plt.ylabel(\"Value\")\n",
        "plt.legend()\n",
        "plt.grid(True)\n",
        "plt.show()"
      ]
    }
  ],
  "metadata": {
    "colab": {
      "provenance": [],
      "gpuType": "T4"
    },
    "kernelspec": {
      "display_name": "Python [conda env:jcopml]",
      "language": "python",
      "name": "conda-env-jcopml-py"
    },
    "language_info": {
      "codemirror_mode": {
        "name": "ipython",
        "version": 3
      },
      "file_extension": ".py",
      "mimetype": "text/x-python",
      "name": "python",
      "nbconvert_exporter": "python",
      "pygments_lexer": "ipython3",
      "version": "3.9.0"
    },
    "accelerator": "GPU"
  },
  "nbformat": 4,
  "nbformat_minor": 0
}